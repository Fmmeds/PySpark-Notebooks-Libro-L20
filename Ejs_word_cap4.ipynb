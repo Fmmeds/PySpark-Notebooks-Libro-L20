{
 "cells": [
  {
   "cell_type": "markdown",
   "metadata": {},
   "source": [
    "# Ejercicos word Capitulo 4\n",
    "- A. Realizar todos los ejercicios propuestos de libro Capitulo_4_ejs\n",
    "- B. GlobalTempView vs TempView\n",
    "- C. Leer los AVRO, Parquet, JSON y CSV escritos en el cap3\n",
    "\n",
    "Como siempre, iniciamos la SparkSession primero:"
   ]
  },
  {
   "cell_type": "code",
   "execution_count": 1,
   "metadata": {},
   "outputs": [],
   "source": [
    "import pyspark\n",
    "from pyspark.sql import SparkSession\n",
    "\n",
    "# Creamos SparkSession (IMPORTANTE cambiar el nombre si estamos en otros scripts)\n",
    " # Añadimos .config con el paquete para poder usar archivos AVRO\n",
    "spark = (SparkSession\n",
    "         .builder\n",
    "         .appName(\"Ejs_word_cap4\")\n",
    "         .config('spark.jars.packages', 'org.apache.spark:spark-avro_2.12:3.0.1')  # añadimos libreria externa para ficheros AVRO\n",
    "         .getOrCreate())"
   ]
  },
  {
   "cell_type": "markdown",
   "metadata": {},
   "source": [
    "### B. GlobalTempView vs TempView\n",
    "\n",
    "La diferencia entre las vistas temporales y globales temporales es que una **vista temporal está ligada a una única SparkSession dentro de una aplicación Spark**. En cambio, una **vista temporal global es visible en múltiples SparkSessions dentro de una aplicación Spark**.\n",
    "\n",
    "Puede **crear múltiples SparkSessions dentro de una sola aplicación Spark**. Esto puede ser útil en los casos en los que quieras acceder (y combinar) datos de dos diferentes SparkSessions que no comparten las mismas configuraciones de metastore de Hive."
   ]
  },
  {
   "cell_type": "markdown",
   "metadata": {},
   "source": [
    "### C. Leer los AVRO, Parquet, JSON y CSV escritos en el cap3\n",
    "\n",
    "\n",
    "Como hicimos en el Ejs_word_cap3, hemos utilizado los dataframes guardados de mnm_df en diferentes formatos"
   ]
  },
  {
   "cell_type": "markdown",
   "metadata": {},
   "source": [
    "#### AVRO"
   ]
  },
  {
   "cell_type": "code",
   "execution_count": 9,
   "metadata": {},
   "outputs": [
    {
     "name": "stdout",
     "output_type": "stream",
     "text": [
      "+-----+------+-----+\n",
      "|State| Color|Count|\n",
      "+-----+------+-----+\n",
      "|   TX|   Red|   20|\n",
      "|   NV|  Blue|   66|\n",
      "|   CO|  Blue|   79|\n",
      "|   OR|  Blue|   71|\n",
      "|   WA|Yellow|   93|\n",
      "+-----+------+-----+\n",
      "only showing top 5 rows\n",
      "\n"
     ]
    }
   ],
   "source": [
    "# Read mnm_df en formato avro\n",
    "df_avro = spark.read.format(\"avro\").load(\"./Datasets/DFs_saved/mnm_df_avro/*\").show(5)"
   ]
  },
  {
   "cell_type": "markdown",
   "metadata": {},
   "source": [
    "#### Parquet"
   ]
  },
  {
   "cell_type": "code",
   "execution_count": 10,
   "metadata": {},
   "outputs": [
    {
     "name": "stdout",
     "output_type": "stream",
     "text": [
      "+-----+------+-----+\n",
      "|State| Color|Count|\n",
      "+-----+------+-----+\n",
      "|   TX|   Red|   20|\n",
      "|   NV|  Blue|   66|\n",
      "|   CO|  Blue|   79|\n",
      "|   OR|  Blue|   71|\n",
      "|   WA|Yellow|   93|\n",
      "+-----+------+-----+\n",
      "only showing top 5 rows\n",
      "\n"
     ]
    }
   ],
   "source": [
    "# Read mnm_df en formato parquet\n",
    "df_parquet = spark.read.format(\"parquet\").load(\"./Datasets/DFs_saved/mnm_df_parquet/*\").show(5)"
   ]
  },
  {
   "cell_type": "markdown",
   "metadata": {},
   "source": [
    "#### JSON"
   ]
  },
  {
   "cell_type": "code",
   "execution_count": 11,
   "metadata": {},
   "outputs": [
    {
     "name": "stdout",
     "output_type": "stream",
     "text": [
      "+------+-----+-----+\n",
      "| Color|Count|State|\n",
      "+------+-----+-----+\n",
      "|   Red|   20|   TX|\n",
      "|  Blue|   66|   NV|\n",
      "|  Blue|   79|   CO|\n",
      "|  Blue|   71|   OR|\n",
      "|Yellow|   93|   WA|\n",
      "+------+-----+-----+\n",
      "only showing top 5 rows\n",
      "\n"
     ]
    }
   ],
   "source": [
    "# Read mnm_df en formato json\n",
    "df_json = spark.read.format(\"json\").load(\"./Datasets/DFs_saved/mnm_df_json/*\").show(5)"
   ]
  },
  {
   "cell_type": "markdown",
   "metadata": {},
   "source": [
    "#### CSV"
   ]
  },
  {
   "cell_type": "code",
   "execution_count": 14,
   "metadata": {},
   "outputs": [
    {
     "name": "stdout",
     "output_type": "stream",
     "text": [
      "+-----+------+-----+\n",
      "|State| Color|Count|\n",
      "+-----+------+-----+\n",
      "|   TX|   Red|   20|\n",
      "|   NV|  Blue|   66|\n",
      "|   CO|  Blue|   79|\n",
      "|   OR|  Blue|   71|\n",
      "|   WA|Yellow|   93|\n",
      "+-----+------+-----+\n",
      "only showing top 5 rows\n",
      "\n"
     ]
    }
   ],
   "source": [
    "\"./Datasets/DFs_saved/flightsDF_csv/*\"\n",
    "\n",
    "df = ( spark.read.format(\"csv\")\n",
    "                 .option(\"inferSchema\", \"true\")\n",
    "                 .option(\"header\", \"true\")\n",
    "      .load(\"./Datasets/DFs_saved/mnm_df_csv/*\")\n",
    "     ).show(5)"
   ]
  }
 ],
 "metadata": {
  "kernelspec": {
   "display_name": "Python 3",
   "language": "python",
   "name": "python3"
  },
  "language_info": {
   "codemirror_mode": {
    "name": "ipython",
    "version": 3
   },
   "file_extension": ".py",
   "mimetype": "text/x-python",
   "name": "python",
   "nbconvert_exporter": "python",
   "pygments_lexer": "ipython3",
   "version": "3.8.5"
  }
 },
 "nbformat": 4,
 "nbformat_minor": 4
}
